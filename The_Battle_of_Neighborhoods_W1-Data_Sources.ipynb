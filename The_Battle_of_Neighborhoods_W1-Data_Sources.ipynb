{
    "cells": [
        {
            "cell_type": "markdown",
            "metadata": {
                "collapsed": true
            },
            "source": "# IBM APPLIED DATA SCIENCE CAPSTONE PROJECT"
        },
        {
            "cell_type": "markdown",
            "metadata": {},
            "source": "## The Battle of Neigborhoods -- Week1"
        },
        {
            "cell_type": "markdown",
            "metadata": {},
            "source": "## Data Sources"
        },
        {
            "cell_type": "markdown",
            "metadata": {},
            "source": "The following data sources are used for this project"
        },
        {
            "cell_type": "markdown",
            "metadata": {},
            "source": "### 1. Toronto Data"
        },
        {
            "cell_type": "markdown",
            "metadata": {},
            "source": "Used beautifulSoup to scrape a data frame of Toronto from the  csv file from the Wikipedia page below. It allows us to obtain the information about the boroughs and neighborhoods along with the postal codes.<br>\nData source : https://en.wikipedia.org/wiki/List_of_postal_codes_of_Canada:_M"
        },
        {
            "cell_type": "markdown",
            "metadata": {},
            "source": "### 2. Geocoder"
        },
        {
            "cell_type": "markdown",
            "metadata": {},
            "source": "Used to map the geographical coordinates of the neighborhoods through the postal code.<br>\nLink of the csv file: http://cocl.us/Geospatial_data"
        },
        {
            "cell_type": "markdown",
            "metadata": {},
            "source": "### 3. Foursquare API"
        },
        {
            "cell_type": "markdown",
            "metadata": {},
            "source": "Foursquare API is used to retrieve data from the Foursquare database, and explore venues and types of restaurant in Toronto Neighborhoods.<br>\nData source: https://developer.foursquare.com/docs/places-api/"
        }
    ],
    "metadata": {
        "kernelspec": {
            "display_name": "Python 3.6",
            "language": "python",
            "name": "python3"
        },
        "language_info": {
            "codemirror_mode": {
                "name": "ipython",
                "version": 3
            },
            "file_extension": ".py",
            "mimetype": "text/x-python",
            "name": "python",
            "nbconvert_exporter": "python",
            "pygments_lexer": "ipython3",
            "version": "3.6.9"
        }
    },
    "nbformat": 4,
    "nbformat_minor": 1
}